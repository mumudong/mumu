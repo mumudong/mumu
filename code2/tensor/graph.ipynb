{
 "cells": [
  {
   "cell_type": "code",
   "execution_count": 1,
   "metadata": {},
   "outputs": [],
   "source": [
    "import tensorflow as tf"
   ]
  },
  {
   "cell_type": "code",
   "execution_count": 2,
   "metadata": {},
   "outputs": [
    {
     "name": "stdout",
     "output_type": "stream",
     "text": [
      "20.0\n"
     ]
    }
   ],
   "source": [
    "w = tf.Variable(2.0,name='w')\n",
    "a = tf.placeholder(\"float\",name='value1')\n",
    "b = tf.placeholder(\"float\",name='value2')\n",
    "feed_dict = {a:4,b:6}\n",
    "op1 = tf.add(a,b,name=\"op1\")\n",
    "op2 = tf.multiply(op1,w,name=\"op2\")\n",
    "sess = tf.Session()\n",
    "sess.run(tf.global_variables_initializer())\n",
    "print(sess.run(op2,feed_dict))\n",
    "saver = tf.train.Saver()\n",
    "#saver = tf.train.Saver([w1,w2]) #指定要保存的变量\n",
    "saver.save(sess,'./test_model/test')\n",
    "#saver.save(sess,'test_model',global_step=1000) #迭代1000次后，保存模型\n",
    "#saves a model every 2 hours and maximum 4 latest models are saved.\n",
    "#saver = tf.train.Saver(max_to_keep=4, keep_checkpoint_every_n_hours=2)\n",
    "sess.close()"
   ]
  },
  {
   "cell_type": "code",
   "execution_count": 6,
   "metadata": {},
   "outputs": [
    {
     "name": "stdout",
     "output_type": "stream",
     "text": [
      "INFO:tensorflow:Restoring parameters from ./test_model/test\n",
      "6.0\n"
     ]
    }
   ],
   "source": [
    "sess = tf.Session()\n",
    "new_saver = tf.train.import_meta_graph('./test_model/test.meta')\n",
    "new_saver.restore(sess,tf.train.latest_checkpoint('./test_model/'))\n",
    "graph = tf.get_default_graph()\n",
    "a = graph.get_tensor_by_name(\"value1:0\")\n",
    "b = graph.get_tensor_by_name(\"value2:0\")\n",
    "feed_dict = {a:1.0,b:2.0}\n",
    "op2 = graph.get_tensor_by_name(\"op2:0\")\n",
    "print(sess.run(op2,feed_dict))\n",
    "sess.close()"
   ]
  },
  {
   "cell_type": "code",
   "execution_count": null,
   "metadata": {},
   "outputs": [],
   "source": []
  }
 ],
 "metadata": {
  "kernelspec": {
   "display_name": "Python 3",
   "language": "python",
   "name": "python3"
  },
  "language_info": {
   "codemirror_mode": {
    "name": "ipython",
    "version": 3
   },
   "file_extension": ".py",
   "mimetype": "text/x-python",
   "name": "python",
   "nbconvert_exporter": "python",
   "pygments_lexer": "ipython3",
   "version": "3.5.4"
  }
 },
 "nbformat": 4,
 "nbformat_minor": 2
}
