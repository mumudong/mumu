{
 "cells": [
  {
   "cell_type": "code",
   "execution_count": 6,
   "metadata": {},
   "outputs": [],
   "source": [
    "import numpy as np\n",
    "import cv2"
   ]
  },
  {
   "cell_type": "code",
   "execution_count": 2,
   "metadata": {},
   "outputs": [
    {
     "name": "stdout",
     "output_type": "stream",
     "text": [
      "(117, 180, 3)\n"
     ]
    }
   ],
   "source": [
    "\"\"\"读取模式 彩色：cv2.IMREAD_COLOR 灰度：cv2.IMREAD_GRAYSCALE或者参数0 cv2.IMREAD_UNCHANGED\"\"\"\n",
    "img = cv2.imread('a.JPG',cv2.IMREAD_COLOR) # 图片是三维数组，宽，高，颜色\n",
    "print(img.shape)\n",
    "\"\"\"WINDOW_NORMAL:可以调节窗口大小 WINDOW_AUTOSIZE:不能调窗口大小--默认模式 \"\"\"\n",
    "cv2.namedWindow('image',cv2.WINDOW_AUTOSIZE)\n",
    "cv2.imshow('image',img)\n",
    "k = cv2.waitKey(0) # 一直等待键盘输入\n",
    "if k == 27:        # 输入esc则返回\n",
    "    cv2.destroyAllWindows()\n",
    "elif k == ord('s'):\n",
    "    cv2.imwrite('imwrite.png',img)\n",
    "    cv2.destroyAllWindows()"
   ]
  },
  {
   "cell_type": "code",
   "execution_count": 7,
   "metadata": {},
   "outputs": [],
   "source": [
    "# 摄像头捕捉图像 0是摄像头序号\n",
    "cap = cv2.VideoCapture(0)\n",
    "while (True):\n",
    "    ret , frame = cap.read() # capture frame-by-frame  ret是是否读取成功   frame是图像\n",
    "#     ret = cap.set(3,1024)\n",
    "#     ret = cap.set(4,666)\n",
    "    gray = cv2.cvtColor(frame,cv2.COLOR_BGR2GRAY) \n",
    "    cv2.imshow('frame',gray)\n",
    "    if cv2.waitKey(20) & 0xFF == ord('q'):#waitkey表示多久显示一帧图片\n",
    "        break\n",
    "# when everything done,release the capture\n",
    "cap.release()\n",
    "cv2.destroyAllWindows()"
   ]
  },
  {
   "cell_type": "code",
   "execution_count": 7,
   "metadata": {},
   "outputs": [],
   "source": [
    "# 读取视频\n",
    "cap = cv2.VideoCapture('output.avi')\n",
    "while (cap.isOpened()):\n",
    "    ret ,frame = cap.read()\n",
    "#     gray = cv2.cvtColor(frame,cv2.COLOR_BGR2GRAY)\n",
    "    cv2.imshow('frame',frame)\n",
    "    if cv2.waitKey(1) & 0xFF == ord('q'):\n",
    "        break\n",
    "cap.release()\n",
    "cv2.destroyAllWindows()"
   ]
  },
  {
   "cell_type": "code",
   "execution_count": 5,
   "metadata": {},
   "outputs": [],
   "source": [
    "# 摄像头捕获图片，保存视频\n",
    "cap = cv2.VideoCapture(0)\n",
    "fourcc = cv2.VideoWriter_fourcc(*'XVID') # fourcc用4字节表示使用的视频编码格式\n",
    "out = cv2.VideoWriter('output.avi',fourcc,20.0,(640,480)) #每秒20帧\n",
    "while cap.isOpened():\n",
    "    ret,frame = cap.read()\n",
    "    if ret == True:\n",
    "        frame = cv2.flip(frame,0)#反转图片\n",
    "        out.write(frame)\n",
    "        cv2.imshow('frame',frame)\n",
    "        if cv2.waitKey(1) & 0xFF == ord('q'):\n",
    "            break\n",
    "cap.release()\n",
    "out.release()\n",
    "cv2.destroyAllWindows()"
   ]
  },
  {
   "cell_type": "code",
   "execution_count": 55,
   "metadata": {},
   "outputs": [],
   "source": [
    "# 绘图函数\n",
    "# 默认不支持中文\n",
    "from PIL import Image,ImageDraw,ImageFont\n",
    "img = np.zeros((500,1000,3),np.uint8) # 高 宽 颜色\n",
    "# line\n",
    "cv2.line(img,(0,0),(500,250),(255,0,0),5) #起点，终点，颜色，线宽 -->宽高和画布相反？\n",
    "#2 rectangle\n",
    "cv2.rectangle(img,(500,250),(600,350),(0,255,0),4) # 左上角，右下角坐标\n",
    "font = cv2.FONT_HERSHEY_DUPLEX\n",
    "cv2.putText(img,'i\\'m rectangle',(650,300),font,1,(255,0,0),2,cv2.LINE_AA)\n",
    "\n",
    "frame_cv2 = cv2.cvtColor(img, cv2.COLOR_BGR2RGB)\n",
    "frame_pil = Image.fromarray(frame_cv2)  #转为PIL的图片格式\n",
    "draw = ImageDraw.Draw(frame_pil) \n",
    "font = ImageFont.truetype(\"simhei.ttf\", 50, encoding=\"utf-8\")\n",
    "    # 第一个参数为字体，中文黑体\n",
    "    # 第二个为字体大小\n",
    "ImageDraw.Draw(frame_pil).text((100, 20), \"这是PIL添加中文字体\", (0, 0, 255), font)\n",
    "img = cv2.cvtColor(np.array(frame_pil), cv2.COLOR_RGB2BGR)\n",
    "\n",
    "\n",
    "#3 圆和椭圆\n",
    "cv2.circle(img,(550,300),50,(0,0,255),-1) # 圆心，半径\n",
    "cv2.ellipse(img,(300,300),(100,50),60,0,300,(255,255,255),-1) #中心，长短轴长，逆时针旋转，椭圆的完整度\n",
    "#4 多边形\n",
    "cv2.polylines(img,[np.array([[100,200],[150,200],[150,250],[100,250]],np.int32).reshape((-1,1,2))],True,(0,255,255))\n",
    "cv2.imshow(\"example\",img)\n",
    "cv2.waitKey(0)\n",
    "cv2.destroyAllWindows()\n",
    "\n"
   ]
  },
  {
   "cell_type": "code",
   "execution_count": 61,
   "metadata": {},
   "outputs": [
    {
     "name": "stdout",
     "output_type": "stream",
     "text": [
      "['EVENT_FLAG_ALTKEY', 'EVENT_FLAG_CTRLKEY', 'EVENT_FLAG_LBUTTON', 'EVENT_FLAG_MBUTTON', 'EVENT_FLAG_RBUTTON', 'EVENT_FLAG_SHIFTKEY', 'EVENT_LBUTTONDBLCLK', 'EVENT_LBUTTONDOWN', 'EVENT_LBUTTONUP', 'EVENT_MBUTTONDBLCLK', 'EVENT_MBUTTONDOWN', 'EVENT_MBUTTONUP', 'EVENT_MOUSEHWHEEL', 'EVENT_MOUSEMOVE', 'EVENT_MOUSEWHEEL', 'EVENT_RBUTTONDBLCLK', 'EVENT_RBUTTONDOWN', 'EVENT_RBUTTONUP']\n"
     ]
    }
   ],
   "source": [
    "# 鼠标事件\n",
    "events = [i for i in dir(cv2) if 'EVENT' in i]\n",
    "print(events)\n",
    "def draw_circle(event,x,y,flags,param):\n",
    "#     print(event,x,y,flags,param)\n",
    "    if event == cv2.EVENT_FLAG_LBUTTON:\n",
    "        cv2.circle(img,(x,y),10,(255,0,0),-1)\n",
    "img = np.zeros((512,512,3),np.uint8)\n",
    "cv2.namedWindow('image')\n",
    "while(1):\n",
    "    cv2.imshow('image',img)\n",
    "    cv2.setMouseCallback('image',draw_circle)\n",
    "    if cv2.waitKey(20) & 0xFF == 27:\n",
    "        break\n",
    "cv2.destroyAllWindows()"
   ]
  },
  {
   "cell_type": "code",
   "execution_count": 2,
   "metadata": {},
   "outputs": [],
   "source": [
    "# 滑动条调色\n",
    "def nothing(x):\n",
    "    pass\n",
    "img = np.zeros((500,600,3),np.uint8)\n",
    "cv2.namedWindow('image')\n",
    "cv2.createTrackbar('R','image',0,255,nothing) # 滑动条名字 - 滑动条放置窗口 - 滑动默认位置 - 滑动最大位置 - 回调函数\n",
    "cv2.createTrackbar('G','image',0,255,nothing)\n",
    "cv2.createTrackbar('B','image',0,255,nothing)\n",
    "# create switch for ON/OFF\n",
    "switch = '0:OFF \\n1:ON'\n",
    "cv2.createTrackbar(switch,'image',0,1,nothing)\n",
    "while(1):\n",
    "    cv2.imshow('image',img)\n",
    "    k = cv2.waitKey(1) & 0xFF\n",
    "    if k == 27:\n",
    "        break\n",
    "    # get current positions of four trackbars\n",
    "    r = cv2.getTrackbarPos('R','image')\n",
    "    g = cv2.getTrackbarPos('G','image')\n",
    "    b = cv2.getTrackbarPos('B','image')\n",
    "    s = cv2.getTrackbarPos(switch,'image')\n",
    "    if s == 0:\n",
    "        img[:] = 0\n",
    "    else:\n",
    "        img[:] = [b,g,r]"
   ]
  },
  {
   "cell_type": "code",
   "execution_count": 3,
   "metadata": {},
   "outputs": [],
   "source": [
    "# 鼠标事件\n",
    "def nothing(x):\n",
    "    pass\n",
    "drawing = False\n",
    "mode = True # if true draw rectangle,else draw curve\n",
    "ix,iy = -1,-1\n",
    "def draw(event,x,y,flags,param):\n",
    "    r = cv2.getTrackbarPos('R','image')\n",
    "    g = cv2.getTrackbarPos('G','image')\n",
    "    b = cv2.getTrackbarPos('B','image')\n",
    "    color = (b,g,r)\n",
    "    global ix,iy,drawing,mode\n",
    "    if event == cv2.EVENT_LBUTTONDOWN:\n",
    "        drawing = True\n",
    "        ix,iy = x,y\n",
    "    elif event == cv2.EVENT_LBUTTONUP:\n",
    "        drawing = False\n",
    "        if mode == True:\n",
    "            cv2.rectangle(img,(ix,iy),(x,y),color,-1)\n",
    "        else:\n",
    "            cv2.circle(img,(x,y),2,color,-1)\n",
    "    elif event == cv2.EVENT_MOUSEMOVE and flags == cv2.EVENT_FLAG_LBUTTON: # event看是否移动  flags查看是否按下\n",
    "        if drawing == True:\n",
    "            if mode == True:\n",
    "                cv2.rectangle(img,(ix,iy),(x,y),color,-1)\n",
    "            else:\n",
    "                cv2.circle(img,(x,y),5,color,-1)\n",
    "img = np.zeros([512,512,3],np.uint8)\n",
    "cv2.namedWindow('image',cv2.WINDOW_NORMAL)\n",
    "cv2.createTrackbar('R','image',0,255,nothing) # 滑动条名字 - 滑动条放置窗口 - 滑动默认位置 - 滑动最大位置 - 回调函数\n",
    "cv2.createTrackbar('G','image',0,255,nothing)\n",
    "cv2.createTrackbar('B','image',0,255,nothing)\n",
    "while(1):\n",
    "    cv2.imshow('image',img)\n",
    "    cv2.setMouseCallback('image',draw)\n",
    "    k = cv2.waitKey(20) & 0xFF\n",
    "    if k == ord('m'):\n",
    "        mode = not mode\n",
    "    elif k == 27:\n",
    "        break\n",
    "cv2.destroyAllWindows()"
   ]
  },
  {
   "cell_type": "code",
   "execution_count": 5,
   "metadata": {},
   "outputs": [
    {
     "name": "stdout",
     "output_type": "stream",
     "text": [
      "[156 119  93]\n",
      "156\n",
      "\n",
      "\n",
      "156\n"
     ]
    }
   ],
   "source": [
    "# 获取并修改像素值  B G R\n",
    "img = cv2.imread('a.JPG')\n",
    "px = img[50,50]\n",
    "print(px)\n",
    "blue = img[50,50,0]\n",
    "print(blue)\n",
    "# 上面的方法修改像素效率不高，可用下面的方法\n",
    "print('\\n')\n",
    "print(img.item(50,50,0))\n",
    "img.itemset((50,50,0),100)"
   ]
  },
  {
   "cell_type": "code",
   "execution_count": 9,
   "metadata": {},
   "outputs": [
    {
     "name": "stdout",
     "output_type": "stream",
     "text": [
      "(117, 180, 3)\n",
      "63180 uint8\n"
     ]
    }
   ],
   "source": [
    "# 获取图像属性：行 列 通道 图像数据类型 像素数目\n",
    "img = cv2.imread('a.JPG')\n",
    "print(img.shape) # 返回 行 列 通道数 ，灰度图只返回 行 列\n",
    "print(img.size,img.dtype)\n",
    "# 图像ROI  找到大致位置\n",
    "rocket = img[30:60,40:70]\n",
    "img[70:100,80:110] = rocket\n",
    "img = cv2.imshow('image',img)\n",
    "cv2.waitKey(0)\n",
    "cv2.destroyAllWindows()"
   ]
  },
  {
   "cell_type": "code",
   "execution_count": 3,
   "metadata": {},
   "outputs": [
    {
     "data": {
      "text/plain": [
       "True"
      ]
     },
     "execution_count": 3,
     "metadata": {},
     "output_type": "execute_result"
    }
   ],
   "source": [
    "# 拆分合并通道\n",
    "img = cv2.imread('a.JPG')\n",
    "b = img[:,:,0]\n",
    "g = img[:,:,1]\n",
    "r = img[:,:,2]\n",
    "img = cv2.merge([b,g,r])\n",
    "cv2.imwrite('channel.jpg',img)"
   ]
  },
  {
   "cell_type": "code",
   "execution_count": 12,
   "metadata": {},
   "outputs": [
    {
     "data": {
      "image/png": "[encoded data removed]",
      "text/plain": [
       "<matplotlib.figure.Figure at 0xee621d0>"
      ]
     },
     "metadata": {},
     "output_type": "display_data"
    }
   ],
   "source": [
    "# 为图像扩边\n",
    "from matplotlib import pyplot as plt\n",
    "import matplotlib.pylab as pylab\n",
    "\"\"\"– cv2.BORDER_CONSTANT 添加有颜色的常数值边界，还需要下一个参数（value）。\n",
    "　 – cv2.BORDER_REFLECT 边界元素的镜像。比如: fedcba|abcde-fgh|hgfedcb\n",
    "　 – cv2.BORDER_REFLECT_101 or cv2.BORDER_DEFAULT跟上面一样，但稍作改动。例如: gfedcb|abcdefgh|gfedcba\n",
    "　 – cv2.BORDER_REPLICATE 重复最后一个元素。例如: aaaaaa|abcdefgh|hhhhhhh  \"\"\"\n",
    "blue = [255,0,0]\n",
    "img = cv2.imread('a.JPG')\n",
    "replicate = cv2.copyMakeBorder(img,20,20,20,20,cv2.BORDER_REPLICATE) # top bottom left right\n",
    "reflect = cv2.copyMakeBorder(img,20,20,20,20,cv2.BORDER_REFLECT)\n",
    "reflect101 = cv2.copyMakeBorder(img,20,20,20,20,cv2.BORDER_REFLECT_101)\n",
    "wrap = cv2.copyMakeBorder(img,20,20,20,20,cv2.BORDER_WRAP)\n",
    "constant = cv2.copyMakeBorder(img,20,20,20,20,cv2.BORDER_CONSTANT,value=blue)\n",
    "plt.subplot(231),plt.imshow(img,cmap='Blues'),plt.title('ORIGINAL')\n",
    "plt.subplot(232),plt.imshow(replicate),plt.title('REPLICATE')\n",
    "plt.subplot(233),plt.imshow(reflect,'gray'),plt.title('REFLECT')\n",
    "plt.subplot(234),plt.imshow(reflect101,'gray'),plt.title('REFLECT101')\n",
    "plt.subplot(235),plt.imshow(wrap,'gray'),plt.title('WRAP')\n",
    "plt.subplot(236),plt.imshow(constant,'gray'),plt.title('CONSTANT')\n",
    "plt.show()"
   ]
  },
  {
   "cell_type": "code",
   "execution_count": 19,
   "metadata": {},
   "outputs": [
    {
     "name": "stdout",
     "output_type": "stream",
     "text": [
      "[[255]]\n",
      "[4]\n"
     ]
    }
   ],
   "source": [
    "# 图像加法\n",
    "x = np.uint8([250]) # 0-255\n",
    "y = np.uint8([10])\n",
    "print(cv2.add(x,y))\n",
    "print(x+y)"
   ]
  },
  {
   "cell_type": "code",
   "execution_count": 9,
   "metadata": {},
   "outputs": [
    {
     "name": "stdout",
     "output_type": "stream",
     "text": [
      "(222, 180, 3)\n",
      "(600, 3)\n"
     ]
    }
   ],
   "source": [
    "# 图像混合　dst = α · img1 + β · img2 + γ\n",
    "img1 = cv2.imread('opencv-logo-white.png')\n",
    "print(img1.shape)\n",
    "img2 = cv2.imread('b.jpg')\n",
    "print(img2[0,:,].shape)\n",
    "for i in range(img1.shape[0]):\n",
    "    for j in range(img1.shape[1]):\n",
    "        for k in range(img1.shape[2]):\n",
    "            img2[i,j,k] = img2[i,j,k] * 0.5 + img1[i,j,k] * 0.5\n",
    "\n",
    "# img1_1 = cv2.resize(img1,(600,337),interpolation=cv2.INTER_CUBIC)\n",
    "\n",
    "# cv2.add(img2,img1)\n",
    "# img = cv2.addWeighted(img1,0.5,img2,0.5,0)\n",
    "cv2.imshow('img',img2)\n",
    "cv2.waitKey(0)\n",
    "cv2.destroyAllWindows()"
   ]
  },
  {
   "cell_type": "code",
   "execution_count": 8,
   "metadata": {},
   "outputs": [
    {
     "name": "stdout",
     "output_type": "stream",
     "text": [
      "(222, 180)\n"
     ]
    }
   ],
   "source": [
    "# 图像位操作\n",
    "img1 = cv2.imread('opencv-logo-white.png')\n",
    "img2 = cv2.imread('b.jpg')\n",
    "rows,cols,channels = img1.shape\n",
    "roi = img2[0:rows,0:cols] # 大图需要合并的区域\n",
    "img1gray = cv2.cvtColor(img1,cv2.COLOR_BGR2GRAY)\n",
    "cv2.imshow('灰度图',img1gray)\n",
    "cv2.waitKey(0)\n",
    "print(img1gray.shape)\n",
    "ret ,mask = cv2.threshold(img1gray,10,255,cv2.THRESH_BINARY)\n",
    "cv2.imshow('mask',mask)\n",
    "cv2.waitKey(0)\n",
    "mask_inv = cv2.bitwise_not(mask)\n",
    "cv2.imshow('mask_inv',mask_inv)\n",
    "img2_bg = cv2.bitwise_and(roi,roi,mask = mask_inv)\n",
    "cv2.imshow('img2_bg',img2_bg)\n",
    "cv2.waitKey(0)\n",
    "img1_fg = cv2.bitwise_and(img1,img1,mask = mask)\n",
    "cv2.imshow('img1_fg',img1_fg)\n",
    "cv2.waitKey(0)\n",
    "dst = cv2.add(img2_bg,img1_fg)\n",
    "img2[0:rows,0:cols] = dst\n",
    "cv2.imshow('res',img2)\n",
    "cv2.waitKey(0)\n",
    "cv2.destroyAllWindows()\n"
   ]
  },
  {
   "cell_type": "code",
   "execution_count": null,
   "metadata": {},
   "outputs": [],
   "source": []
  }
 ],
 "metadata": {
  "kernelspec": {
   "display_name": "Python 3",
   "language": "python",
   "name": "python3"
  },
  "language_info": {
   "codemirror_mode": {
    "name": "ipython",
    "version": 3
   },
   "file_extension": ".py",
   "mimetype": "text/x-python",
   "name": "python",
   "nbconvert_exporter": "python",
   "pygments_lexer": "ipython3",
   "version": "3.6.3"
  }
 },
 "nbformat": 4,
 "nbformat_minor": 2
}
