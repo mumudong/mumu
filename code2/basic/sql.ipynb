{
 "cells": [
  {
   "cell_type": "code",
   "execution_count": 32,
   "metadata": {},
   "outputs": [],
   "source": [
    "import pymssql\n",
    "import pandas as pd\n",
    "host='tianxibigdata.database.chinacloudapi.cn'\n",
    "port='1433'\n",
    "user='tianxi'\n",
    "password='1qa2ws!QA'\n",
    "database='TianxiBigData'\n",
    "#conn = pymssql.connect(server=host,port=port,user=user,password=password,database=database,charset='utf8',tds_version='7.0')\n",
    "#df = pd.read_sql(\"select top 10  * from creditrating\")\n",
    "#df.head()\n",
    "#conn.close()"
   ]
  },
  {
   "cell_type": "code",
   "execution_count": 16,
   "metadata": {},
   "outputs": [
    {
     "name": "stdout",
     "output_type": "stream",
     "text": [
      "   id         job_name  source_table_id  target_table_id  source_ds_id  \\\n",
      "0   1  ORG_MAINTAINORG                1            25445            26   \n",
      "\n",
      "   target_ds_id  etl_type  map_num split_by  is_external_table  \\\n",
      "0             4         6        0                           1   \n",
      "\n",
      "                                      hive_table_dir  is_partition_day  \\\n",
      "0  /ods/offline/nc1/erpdb/ERPXH/ERPXH_ORG_MAINTAI...                 1   \n",
      "\n",
      "  partition_day partition_name  date_offset  etl_num  status    create_time  \\\n",
      "0                                         1        1       1  1512377046235   \n",
      "\n",
      "     update_time  generate_job_id  \n",
      "0  1512377046235                5  \n"
     ]
    }
   ],
   "source": [
    "import pymysql\n",
    "db = pymysql.connect(\"10.167.222.101\",\"etl\",\"etl\",\"etl\")\n",
    "df = pd.read_sql(\"select * from t_job limit 1\",db)\n",
    "print(df)\n",
    "db.close()"
   ]
  },
  {
   "cell_type": "code",
   "execution_count": 14,
   "metadata": {},
   "outputs": [
    {
     "name": "stdout",
     "output_type": "stream",
     "text": [
      "       Id                              CustomNo Gender Age AgeScore Income  \\\n",
      "0  814414  44729b62-39d8-4f7e-bb63-fa72b694bc25      男  41       11  12083   \n",
      "1  814415  0296ad68-495c-4244-a774-34535c446f6e      男  45       11  42689   \n",
      "\n",
      "  IncomeScore OverdueNo90 OverdueNo90Score AuthorizedAmounts  \\\n",
      "0           8           3              -14             48785   \n",
      "1          35           6              -40             34051   \n",
      "\n",
      "  AuthorizedAmountsScore CreditRatings IsFraud   EnterTime  \\\n",
      "0                     25             C       否  2017-07-03   \n",
      "1                     20                     是  2004-08-17   \n",
      "\n",
      "               CreateTime  \n",
      "0 2018-06-01 03:37:10.207  \n",
      "1 2018-06-04 03:37:10.393  \n"
     ]
    }
   ],
   "source": [
    "import pyodbc\n",
    "import pandas as pd\n",
    "host='tianxibigdata.database.chinacloudapi.cn'\n",
    "port=1433\n",
    "user='tianxi'\n",
    "password='1qa2ws!QA'\n",
    "database='TianxiBigData'\n",
    "conn = pyodbc.connect('DRIVER={ODBC Driver 17 for SQL Server};SERVER='+host+';DATABASE='+database+';UID='+user+';PWD='+password)\n",
    "df = pd.read_sql(\"select top 2  * from creditrating\",conn)\n",
    "print(df)\n",
    "conn.close()"
   ]
  },
  {
   "cell_type": "code",
   "execution_count": 8,
   "metadata": {},
   "outputs": [
    {
     "name": "stdout",
     "output_type": "stream",
     "text": [
      "(814414, '44729b62-39d8-4f7e-bb63-fa72b694bc25', '男', '41', '11', '12083', '8', '3', '-14', '48785', '25', 'C', '否', '2017-07-03', datetime.datetime(2018, 6, 1, 3, 37, 10, 207000))\n"
     ]
    }
   ],
   "source": [
    "import pyodbc \n",
    "# Some other example server values are\n",
    "# server = 'localhost\\sqlexpress' # for a named instance\n",
    "# server = 'myserver,port' # to specify an alternate port\n",
    "server = 'tcp:tianxibigdata.database.chinacloudapi.cn' \n",
    "database = 'TianxiBigData' \n",
    "username = 'tianxi' \n",
    "password = '1qa2ws!QA' \n",
    "cnxn = pyodbc.connect('DRIVER={ODBC Driver 17 for SQL Server};SERVER='+server+';DATABASE='+database+';UID='+username+';PWD='+ password)\n",
    "cursor = cnxn.cursor()\n",
    "cursor.execute(\"SELECT top 1 * from creditrating\") \n",
    "row = cursor.fetchone() \n",
    "while row: \n",
    "    print( row) \n",
    "    break\n",
    "cnxn.close()"
   ]
  },
  {
   "cell_type": "code",
   "execution_count": null,
   "metadata": {},
   "outputs": [],
   "source": []
  }
 ],
 "metadata": {
  "kernelspec": {
   "display_name": "Python 3",
   "language": "python",
   "name": "python3"
  },
  "language_info": {
   "codemirror_mode": {
    "name": "ipython",
    "version": 3
   },
   "file_extension": ".py",
   "mimetype": "text/x-python",
   "name": "python",
   "nbconvert_exporter": "python",
   "pygments_lexer": "ipython3",
   "version": "3.5.4"
  }
 },
 "nbformat": 4,
 "nbformat_minor": 2
}
