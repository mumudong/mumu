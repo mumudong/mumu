{
 "cells": [
  {
   "cell_type": "code",
   "execution_count": 1,
   "metadata": {},
   "outputs": [],
   "source": [
    "dic = {}"
   ]
  },
  {
   "cell_type": "code",
   "execution_count": 8,
   "metadata": {},
   "outputs": [],
   "source": [
    "dic[(1.2,1.1)] = 1.1"
   ]
  },
  {
   "cell_type": "code",
   "execution_count": 9,
   "metadata": {},
   "outputs": [
    {
     "name": "stdout",
     "output_type": "stream",
     "text": [
      "{('a', 1.1): 1.1, ('a', 'b'): 1.1, (1.2, 1.1): 1.1}\n"
     ]
    }
   ],
   "source": [
    "print(dic)"
   ]
  },
  {
   "cell_type": "code",
   "execution_count": 12,
   "metadata": {},
   "outputs": [
    {
     "data": {
      "text/plain": [
       "3.1"
      ]
     },
     "execution_count": 12,
     "metadata": {},
     "output_type": "execute_result"
    }
   ],
   "source": [
    "max(2.2,3.1)"
   ]
  },
  {
   "cell_type": "code",
   "execution_count": 13,
   "metadata": {},
   "outputs": [
    {
     "data": {
      "text/plain": [
       "[1, 1, 1, 1, 1, 1, 1, 1, 1, 1]"
      ]
     },
     "execution_count": 13,
     "metadata": {},
     "output_type": "execute_result"
    }
   ],
   "source": [
    "[1]*10"
   ]
  },
  {
   "cell_type": "code",
   "execution_count": 14,
   "metadata": {},
   "outputs": [],
   "source": [
    "import matplotlib.pyplot as plt"
   ]
  },
  {
   "cell_type": "code",
   "execution_count": 17,
   "metadata": {},
   "outputs": [
    {
     "data": {
      "text/plain": [
       "([<matplotlib.axis.XTick at 0xe0a4c18>,\n",
       "  <matplotlib.axis.XTick at 0xe0a4550>,\n",
       "  <matplotlib.axis.XTick at 0xe0a42b0>],\n",
       " <a list of 3 Text xticklabel objects>)"
      ]
     },
     "execution_count": 17,
     "metadata": {},
     "output_type": "execute_result"
    },
    {
     "data": {
      "image/png": "[encoded data removed]",
      "text/plain": [
       "<Figure size 432x288 with 1 Axes>"
      ]
     },
     "metadata": {},
     "output_type": "display_data"
    }
   ],
   "source": [
    "plt.bar([1,2,3],[4,5,6])\n",
    "plt.xticks([1,3,5],rotation=90)"
   ]
  },
  {
   "cell_type": "code",
   "execution_count": 19,
   "metadata": {},
   "outputs": [
    {
     "name": "stdout",
     "output_type": "stream",
     "text": [
      "1.0\n"
     ]
    }
   ],
   "source": [
    "print(float(\"1\"))"
   ]
  },
  {
   "cell_type": "code",
   "execution_count": 37,
   "metadata": {},
   "outputs": [
    {
     "data": {
      "text/html": [
       "<div>\n",
       "<style scoped>\n",
       "    .dataframe tbody tr th:only-of-type {\n",
       "        vertical-align: middle;\n",
       "    }\n",
       "\n",
       "    .dataframe tbody tr th {\n",
       "        vertical-align: top;\n",
       "    }\n",
       "\n",
       "    .dataframe thead th {\n",
       "        text-align: right;\n",
       "    }\n",
       "</style>\n",
       "<table border=\"1\" class=\"dataframe\">\n",
       "  <thead>\n",
       "    <tr style=\"text-align: right;\">\n",
       "      <th></th>\n",
       "      <th>member_id</th>\n",
       "      <th>loan_amnt</th>\n",
       "      <th>term</th>\n",
       "      <th>loan_status</th>\n",
       "      <th>int_rate</th>\n",
       "      <th>emp_length</th>\n",
       "      <th>home_ownership</th>\n",
       "      <th>annual_inc</th>\n",
       "      <th>verification_status</th>\n",
       "      <th>desc</th>\n",
       "      <th>...</th>\n",
       "      <th>delinq_2yrs</th>\n",
       "      <th>inq_last_6mths</th>\n",
       "      <th>mths_since_last_delinq</th>\n",
       "      <th>mths_since_last_record</th>\n",
       "      <th>open_acc</th>\n",
       "      <th>pub_rec</th>\n",
       "      <th>total_acc</th>\n",
       "      <th>pub_rec_bankruptcies</th>\n",
       "      <th>issue_d</th>\n",
       "      <th>earliest_cr_line</th>\n",
       "    </tr>\n",
       "  </thead>\n",
       "  <tbody>\n",
       "    <tr>\n",
       "      <th>0</th>\n",
       "      <td>1</td>\n",
       "      <td>5000</td>\n",
       "      <td>36 months</td>\n",
       "      <td>Fully Paid</td>\n",
       "      <td>10.65%</td>\n",
       "      <td>10+ years</td>\n",
       "      <td>RENT</td>\n",
       "      <td>24000</td>\n",
       "      <td>Verified</td>\n",
       "      <td>Borrower added on 12/22/11 &gt; I need to upgra...</td>\n",
       "      <td>...</td>\n",
       "      <td>0</td>\n",
       "      <td>1</td>\n",
       "      <td></td>\n",
       "      <td></td>\n",
       "      <td>3</td>\n",
       "      <td>0</td>\n",
       "      <td>9</td>\n",
       "      <td>0</td>\n",
       "      <td>Dec-11</td>\n",
       "      <td>Jan-85</td>\n",
       "    </tr>\n",
       "  </tbody>\n",
       "</table>\n",
       "<p>1 rows × 25 columns</p>\n",
       "</div>"
      ],
      "text/plain": [
       "  member_id loan_amnt        term loan_status int_rate emp_length  \\\n",
       "0         1      5000   36 months  Fully Paid   10.65%  10+ years   \n",
       "\n",
       "  home_ownership annual_inc verification_status  \\\n",
       "0           RENT      24000            Verified   \n",
       "\n",
       "                                                desc       ...         \\\n",
       "0    Borrower added on 12/22/11 > I need to upgra...       ...          \n",
       "\n",
       "  delinq_2yrs inq_last_6mths mths_since_last_delinq mths_since_last_record  \\\n",
       "0           0              1                                                 \n",
       "\n",
       "  open_acc pub_rec total_acc pub_rec_bankruptcies issue_d earliest_cr_line  \n",
       "0        3       0         9                    0  Dec-11           Jan-85  \n",
       "\n",
       "[1 rows x 25 columns]"
      ]
     },
     "execution_count": 37,
     "metadata": {},
     "output_type": "execute_result"
    }
   ],
   "source": [
    "import pandas\n",
    "import numpy as np\n",
    "cols = \"member_id,loan_amnt,term,loan_status,int_rate,emp_length,home_ownership,annual_inc,verification_status,desc,purpose,title,zip_code,addr_state,dti,delinq_2yrs,inq_last_6mths,mths_since_last_delinq,mths_since_last_record,open_acc,pub_rec,total_acc,pub_rec_bankruptcies,issue_d,earliest_cr_line\".split(',')\n",
    "val = \"1,5000, 36 months,Fully Paid,10.65%,10+ years,RENT,24000,Verified,  Borrower added on 12/22/11 > I need to upgrade my business technologies.<br>,credit_card,Computer,860xx,AZ,27.65,0,1,,,3,0,9,0,Dec-11,Jan-85\".split(',')\n",
    "d = pandas.DataFrame(np.array(val).reshape(1,25),columns=cols)\n",
    "d.head()"
   ]
  },
  {
   "cell_type": "code",
   "execution_count": 38,
   "metadata": {},
   "outputs": [
    {
     "name": "stdout",
     "output_type": "stream",
     "text": [
      "member_id                 object\n",
      "loan_amnt                 object\n",
      "term                      object\n",
      "loan_status               object\n",
      "int_rate                  object\n",
      "emp_length                object\n",
      "home_ownership            object\n",
      "annual_inc                object\n",
      "verification_status       object\n",
      "desc                      object\n",
      "purpose                   object\n",
      "title                     object\n",
      "zip_code                  object\n",
      "addr_state                object\n",
      "dti                       object\n",
      "delinq_2yrs               object\n",
      "inq_last_6mths            object\n",
      "mths_since_last_delinq    object\n",
      "mths_since_last_record    object\n",
      "open_acc                  object\n",
      "pub_rec                   object\n",
      "total_acc                 object\n",
      "pub_rec_bankruptcies      object\n",
      "issue_d                   object\n",
      "earliest_cr_line          object\n",
      "dtype: object\n"
     ]
    }
   ],
   "source": [
    "print(d.dtypes)"
   ]
  },
  {
   "cell_type": "code",
   "execution_count": 39,
   "metadata": {},
   "outputs": [
    {
     "data": {
      "text/html": [
       "<div>\n",
       "<style scoped>\n",
       "    .dataframe tbody tr th:only-of-type {\n",
       "        vertical-align: middle;\n",
       "    }\n",
       "\n",
       "    .dataframe tbody tr th {\n",
       "        vertical-align: top;\n",
       "    }\n",
       "\n",
       "    .dataframe thead th {\n",
       "        text-align: right;\n",
       "    }\n",
       "</style>\n",
       "<table border=\"1\" class=\"dataframe\">\n",
       "  <thead>\n",
       "    <tr style=\"text-align: right;\">\n",
       "      <th></th>\n",
       "      <th>a</th>\n",
       "      <th>b</th>\n",
       "    </tr>\n",
       "  </thead>\n",
       "  <tbody>\n",
       "    <tr>\n",
       "      <th>1</th>\n",
       "      <td>1</td>\n",
       "      <td>2</td>\n",
       "    </tr>\n",
       "  </tbody>\n",
       "</table>\n",
       "</div>"
      ],
      "text/plain": [
       "   a  b\n",
       "1  1  2"
      ]
     },
     "execution_count": 39,
     "metadata": {},
     "output_type": "execute_result"
    }
   ],
   "source": [
    "pandas.DataFrame({'a':1,'b':2},index=[1])"
   ]
  },
  {
   "cell_type": "code",
   "execution_count": 50,
   "metadata": {},
   "outputs": [
    {
     "name": "stdout",
     "output_type": "stream",
     "text": [
      "if\n",
      "0\n",
      "True\n",
      "2\n"
     ]
    }
   ],
   "source": [
    "def convertType(str,itype):\n",
    "    if itype == 'int64' :\n",
    "        if str == \"\":\n",
    "            print('if')\n",
    "            return 0\n",
    "        else:\n",
    "            print('else')\n",
    "            return itype(str)\n",
    "    else:\n",
    "        print('wai else')\n",
    "print(convertType(\"\",'int64'))\n",
    "print(np.int64==np.int64)\n",
    "print(np.int64('2'))"
   ]
  },
  {
   "cell_type": "code",
   "execution_count": 40,
   "metadata": {},
   "outputs": [
    {
     "data": {
      "text/plain": [
       "0    0\n",
       "Name: delinq_2yrs, dtype: object"
      ]
     },
     "execution_count": 40,
     "metadata": {},
     "output_type": "execute_result"
    }
   ],
   "source": [
    "d['delinq_2yrs']"
   ]
  },
  {
   "cell_type": "code",
   "execution_count": 55,
   "metadata": {},
   "outputs": [
    {
     "name": "stdout",
     "output_type": "stream",
     "text": [
      "[('', '1', '', ''), (',', '5000', '', ''), (',', ' 36 months', '', ''), (',', 'Fully Paid', '', ''), (',', '10.65%', '', ''), (',', '10+ years', '', ''), (',', 'RENT', '', ''), (',', '24000', '', ''), (',', 'Verified', '', ''), (',', '  Borrower added on 12/22/11 > I need to upgrade my business technologies.<br>', '', ''), (',', 'credit_card', '', ''), (',', 'Computer', '', ''), (',', '860xx', '', ''), (',', 'AZ', '', ''), (',', '27.65', '', ''), (',', '0', '', ''), (',', '1', '', ''), (',', '', '', ''), (',', '', '', ''), (',', '3', '', ''), (',', '0', '', ''), (',', '9', '', ''), (',', '0', '', ''), (',', 'Dec-11', '', ''), (',', 'Jan-85', '', ''), ('', '', '', '')]\n",
      "('', '1', '', '')\n",
      "(',', '5000', '', '')\n",
      "(',', ' 36 months', '', '')\n",
      "(',', 'Fully Paid', '', '')\n",
      "(',', '10.65%', '', '')\n",
      "(',', '10+ years', '', '')\n",
      "(',', 'RENT', '', '')\n",
      "(',', '24000', '', '')\n",
      "(',', 'Verified', '', '')\n",
      "(',', '  Borrower added on 12/22/11 > I need to upgrade my business technologies.<br>', '', '')\n",
      "(',', 'credit_card', '', '')\n",
      "(',', 'Computer', '', '')\n",
      "(',', '860xx', '', '')\n",
      "(',', 'AZ', '', '')\n",
      "(',', '27.65', '', '')\n",
      "(',', '0', '', '')\n",
      "(',', '1', '', '')\n",
      "(',', '', '', '')\n",
      "(',', '', '', '')\n",
      "(',', '3', '', '')\n",
      "(',', '0', '', '')\n",
      "(',', '9', '', '')\n",
      "(',', '0', '', '')\n",
      "(',', 'Dec-11', '', '')\n",
      "(',', 'Jan-85', '', '')\n",
      "('', '', '', '')\n"
     ]
    }
   ],
   "source": [
    "import re\n",
    "reg = re.compile(r\"(,)?((\\\"[^\\\"]*(\\\"{2})*[^\\\"]*\\\")*[^,]*)\")\n",
    "val = \"1,5000, 36 months,Fully Paid,10.65%,10+ years,RENT,24000,Verified,  Borrower added on 12/22/11 > I need to upgrade my business technologies.<br>,credit_card,Computer,860xx,AZ,27.65,0,1,,,3,0,9,0,Dec-11,Jan-85\"\n",
    "\n",
    "arr = reg.findall(val)\n",
    "print(arr)\n",
    "for i in arr:\n",
    "    print(i)"
   ]
  },
  {
   "cell_type": "code",
   "execution_count": null,
   "metadata": {},
   "outputs": [],
   "source": []
  }
 ],
 "metadata": {
  "kernelspec": {
   "display_name": "Python 3",
   "language": "python",
   "name": "python3"
  },
  "language_info": {
   "codemirror_mode": {
    "name": "ipython",
    "version": 3
   },
   "file_extension": ".py",
   "mimetype": "text/x-python",
   "name": "python",
   "nbconvert_exporter": "python",
   "pygments_lexer": "ipython3",
   "version": "3.5.4"
  }
 },
 "nbformat": 4,
 "nbformat_minor": 2
}
