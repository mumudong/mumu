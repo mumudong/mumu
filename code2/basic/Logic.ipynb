{
 "cells": [
  {
   "cell_type": "code",
   "execution_count": 2,
   "metadata": {},
   "outputs": [],
   "source": [
    "import numpy as np\n",
    "import statsmodels.api as sm\n",
    "import pandas as pd"
   ]
  },
  {
   "cell_type": "code",
   "execution_count": null,
   "metadata": {},
   "outputs": [],
   "source": []
  },
  {
   "cell_type": "code",
   "execution_count": 3,
   "metadata": {},
   "outputs": [
    {
     "data": {
      "text/plain": [
       "<Figure size 640x480 with 1 Axes>"
      ]
     },
     "metadata": {},
     "output_type": "display_data"
    }
   ],
   "source": [
    "import matplotlib.pyplot as plt\n",
    "x = np.random.random(size=20)\n",
    "y = x * 4 + np.random.random(size=20) * 0.4\n",
    "# plt.plot(x,y)\n",
    "plt.scatter(x,y)\n",
    "plt.plot(x,x/0.2626)\n",
    "plt.show()"
   ]
  },
  {
   "cell_type": "code",
   "execution_count": 5,
   "metadata": {},
   "outputs": [
    {
     "name": "stdout",
     "output_type": "stream",
     "text": [
      "Optimization terminated successfully.\n",
      "         Current function value: 0.599280\n",
      "         Iterations 4\n",
      "pvalues--> [0.14876676]\n"
     ]
    }
   ],
   "source": [
    "model = sm.Logit(x,y).fit()\n",
    "print('pvalues-->',model.pvalues)"
   ]
  },
  {
   "cell_type": "code",
   "execution_count": 44,
   "metadata": {},
   "outputs": [
    {
     "data": {
      "image/png": "[encoded data removed]",
      "text/plain": [
       "<Figure size 432x288 with 1 Axes>"
      ]
     },
     "metadata": {},
     "output_type": "display_data"
    }
   ],
   "source": [
    "plt.scatter(x,model.predict(x))\n",
    "plt.plot(x,x/0.2626)\n",
    "plt.show()"
   ]
  },
  {
   "cell_type": "code",
   "execution_count": 37,
   "metadata": {},
   "outputs": [
    {
     "name": "stdout",
     "output_type": "stream",
     "text": [
      "this is  1\n",
      "continu --  2\n",
      "this is  3\n",
      "this is  4\n"
     ]
    }
   ],
   "source": [
    "t = [1,2,3,4]\n",
    "while len(t)>0:\n",
    "    tt = t[0]\n",
    "    t.remove(tt)\n",
    "    if tt == 2:\n",
    "        print('continu -- ',tt)\n",
    "        continue\n",
    "    print('this is ',tt)"
   ]
  },
  {
   "cell_type": "code",
   "execution_count": 7,
   "metadata": {},
   "outputs": [
    {
     "data": {
      "text/plain": [
       "[((0.6, 0.6), 6), ((0.4, 0.4), 0.4), ((0.3, 0.3), 2), ((0.2, 0.2), 1)]"
      ]
     },
     "execution_count": 7,
     "metadata": {},
     "output_type": "execute_result"
    }
   ],
   "source": [
    "m = {(0.2,0.2):1,(0.3,0.3):2,(0.6,0.6):6,(0.4,0.4):0.4}\n",
    "sorted(m.items(),key=lambda x:x[0][0],reverse=True)"
   ]
  },
  {
   "cell_type": "code",
   "execution_count": null,
   "metadata": {},
   "outputs": [],
   "source": []
  }
 ],
 "metadata": {
  "kernelspec": {
   "display_name": "Python 3",
   "language": "python",
   "name": "python3"
  },
  "language_info": {
   "codemirror_mode": {
    "name": "ipython",
    "version": 3
   },
   "file_extension": ".py",
   "mimetype": "text/x-python",
   "name": "python",
   "nbconvert_exporter": "python",
   "pygments_lexer": "ipython3",
   "version": "3.5.4"
  }
 },
 "nbformat": 4,
 "nbformat_minor": 2
}
