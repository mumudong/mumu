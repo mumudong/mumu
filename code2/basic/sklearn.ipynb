{
 "cells": [
  {
   "cell_type": "code",
   "execution_count": 2,
   "metadata": {},
   "outputs": [],
   "source": [
    "from sklearn.metrics import f1_score,roc_auc_score\n",
    "from sklearn.linear_model import LogisticRegression\n",
    "import numpy as np"
   ]
  },
  {
   "cell_type": "code",
   "execution_count": 14,
   "metadata": {},
   "outputs": [],
   "source": [
    "x = np.array([4,4,4,1,1]).reshape(-1, 1)\n",
    "y = np.array([2,2,2,1,1]) \n",
    "model = LogisticRegression().fit(x,y)"
   ]
  },
  {
   "cell_type": "code",
   "execution_count": 15,
   "metadata": {},
   "outputs": [],
   "source": [
    "x_test = np.array([4,4,1,1,1]).reshape(-1,1)\n",
    "result = model.predict_proba(x_test)"
   ]
  },
  {
   "cell_type": "code",
   "execution_count": 16,
   "metadata": {},
   "outputs": [
    {
     "name": "stdout",
     "output_type": "stream",
     "text": [
      "[[0.1350917  0.8649083 ]\n",
      " [0.1350917  0.8649083 ]\n",
      " [0.49669935 0.50330065]\n",
      " [0.49669935 0.50330065]\n",
      " [0.49669935 0.50330065]]\n"
     ]
    }
   ],
   "source": [
    "print(result)"
   ]
  },
  {
   "cell_type": "code",
   "execution_count": 29,
   "metadata": {},
   "outputs": [
    {
     "name": "stdout",
     "output_type": "stream",
     "text": [
      "{'eeeeeeeeeeeeeeeeeee', 'ddddddddddddddd', 'bbbbbbbbbbbbbb', 'i', 'ggggggggggg', 'fffffffffffffff', 'aaaaaaaaaaa', 'h', 'cccccccccccccc'}\n"
     ]
    }
   ],
   "source": [
    "m = {'aaaaaaaaaaa':1,'bbbbbbbbbbbbbb':2,'cccccccccccccc':3,'ddddddddddddddd':4,'eeeeeeeeeeeeeeeeeee':5,'fffffffffffffff':6,'ggggggggggg':7,'h':8,'i':9}\n",
    "print(set(m.keys()))"
   ]
  },
  {
   "cell_type": "code",
   "execution_count": 30,
   "metadata": {},
   "outputs": [],
   "source": [
    "import pandas as pd"
   ]
  },
  {
   "cell_type": "code",
   "execution_count": 31,
   "metadata": {},
   "outputs": [],
   "source": [
    "df = pd.DataFrame(m,index=[1])"
   ]
  },
  {
   "cell_type": "code",
   "execution_count": 32,
   "metadata": {},
   "outputs": [
    {
     "name": "stdout",
     "output_type": "stream",
     "text": [
      "   aaaaaaaaaaa  bbbbbbbbbbbbbb  cccccccccccccc  ddddddddddddddd  \\\n",
      "1            1               2               3                4   \n",
      "\n",
      "   eeeeeeeeeeeeeeeeeee  fffffffffffffff  ggggggggggg  h  i  \n",
      "1                    5                6            7  8  9  \n"
     ]
    }
   ],
   "source": [
    "print(df.head())"
   ]
  },
  {
   "cell_type": "code",
   "execution_count": null,
   "metadata": {},
   "outputs": [],
   "source": []
  }
 ],
 "metadata": {
  "kernelspec": {
   "display_name": "Python 3",
   "language": "python",
   "name": "python3"
  },
  "language_info": {
   "codemirror_mode": {
    "name": "ipython",
    "version": 3
   },
   "file_extension": ".py",
   "mimetype": "text/x-python",
   "name": "python",
   "nbconvert_exporter": "python",
   "pygments_lexer": "ipython3",
   "version": "3.5.4"
  }
 },
 "nbformat": 4,
 "nbformat_minor": 2
}
