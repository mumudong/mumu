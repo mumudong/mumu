{
 "cells": [
  {
   "cell_type": "code",
   "execution_count": 2,
   "metadata": {},
   "outputs": [],
   "source": [
    "import requests\n",
    "import json"
   ]
  },
  {
   "cell_type": "code",
   "execution_count": 5,
   "metadata": {},
   "outputs": [
    {
     "name": "stdout",
     "output_type": "stream",
     "text": [
      "http://rx.jrbdp.jd.com/rx/category/getErpUserInfo?erp=mushudong\n"
     ]
    }
   ],
   "source": [
    "url = 'http://rx.jrbdp.jd.com/rx/category/getErpUserInfo?erp=%s'%'mushudong'\n",
    "print(url)"
   ]
  },
  {
   "cell_type": "code",
   "execution_count": 8,
   "metadata": {},
   "outputs": [],
   "source": [
    "cookStr = 'jd.erp.lang=zh_CN; __jdu=1542684867826166454088; shshshfpa=95f39c44-f0cb-96ea-bdb9-f893e27c2923-1542789853; hf_time=1542789853228; shshshfpb=0704989d36c321f7b31073b494be844459bef877b5ba9cd0b5bf51ae7b; pshcmweb-80-PORTAL-PSJSESSIONID=2yc7dD9QK_m30Q6a9B3L6viQyaRFJIRw!-1481033411; ExpirePage=http://hcm.jd.com/psc/HCMPRD/; PS_LOGINLIST=http://hcm.jd.com/HCMPRD; PS_TOKEN=qgAAAAQDAgEBAAAAvAIAAAAAAAAsAAAABABTaGRyAk4Acwg4AC4AMQAwABRTJZ83c7uH/MbiV3SkLWCMa87ddGoAAAAFAFNkYXRhXnicHcg7DkBQEIXh3yNKhX24cS/BCkQpqDQaCQ0KsTuLc5hJvjlnLiAMfM/TfXz+SXZuLja5cHKwEk20DMSdaBiZVXsKR4alJpVWOu2XHYZCf6OUS6tWKZWSF0NnDa4=; PS_TOKENEXPIRE=22_Nov_2018_12:45:58_GMT; _jrda=3; vCode=2RTCA43Q6KYAQ; __jdv=190235888|ssa.jd.com|-|referral|-|1548148046760; mba_muid=1542684867826166454088; shshshfp=2f5ba2c9c6b331752eb2e2468acd5759; 3AB9D23F7A4B3C9B=MT5JKZVFJJJIEVOKC2INUZ4MX6M5KZJGOBXPCMSLTVRHPPJHISFNJ44XI3DP7G2D6IEMIKWAXDFD3XAWFTTPGR37VQ; _jrbdp_lc_=CZEY26TY6WSCGNXTNPEC3ZPJTU; JSESSIONID=66EB6358936E9CF3761E3FBDAC113CA4.s1; __jda=122992088.1542684867826166454088.1542684868.1548249771.1548293652.64; __jdc=122992088; erp1.jd.com=F668E6792919B65A413890D788584A196D55DD8008365E8824F73EEA8D624BC8923491272598375FCF2807C7BD350F33329D36376B9707E924F314E244E2878D1DC041D6A0A2B0BB64C8BD30D5F57CEF; sso.jd.com=fa31b3116ec84740909d4e4400a42833; jd_loginUser=%u7A46%u8FF0%u4E1C; jd_loginUser.sig=SHpzSMTOMAmdcIvhIIpCqatw8j-IdWh8MbAj5pgboEE; userErp=mushudong; userErp.sig=HS-kymPKzL4D3Xe7u0glgEXihv3NTzvNKXVUfUZYlY8; roles=manager_scheduler; roles.sig=O4RMKFRca2qILKvyZN0g14SLaBb5YKHEtdIzzW2AnaQ';\n",
    "cook = {}\n",
    "for line in cookStr.split(\";\"):\n",
    "    name,value = line.strip().split('=',1)\n",
    "    cook[name]=value"
   ]
  },
  {
   "cell_type": "code",
   "execution_count": 9,
   "metadata": {},
   "outputs": [
    {
     "name": "stdout",
     "output_type": "stream",
     "text": [
      "{\"respCode\":10000,\"respMsg\":\"操作成功\",\"respParam\":{\"age\":\"107.0\",\"birthday\":\"1989-11-12 00:00:00\",\"email\":\"mushudong@jd.com\",\"headImg\":\"http://img20.360buyimg.com/ee/jfs/t26926/328/1999830214/31614/672df9ca/5bf3ac11Ne24500d0.jpg\",\"mobile\":\"13611124644\",\"organizationCode\":\"00052890\",\"organizationFullName\":\"京东集团-京东数字科技-智能大数据部-数据资产部-图计算平台部\",\"organizationFullPath\":\"/00000000/00008987/00055926/00040549/00052890\",\"organizationName\":\"图计算平台部\",\"positionCode\":\"00217269\",\"positionName\":\"软件开发工程师岗\",\"realName\":\"穆述东\",\"sex\":\"男\",\"telephone\":\"\",\"userCode\":\"00630402\",\"userName\":\"mushudong\",\"workState\":\"102\"}}\n"
     ]
    }
   ],
   "source": [
    "response = requests.get(url,cookies=cook)\n",
    "print(response.text)"
   ]
  },
  {
   "cell_type": "code",
   "execution_count": 26,
   "metadata": {},
   "outputs": [
    {
     "name": "stdout",
     "output_type": "stream",
     "text": [
      "主键\t\t\n",
      "\n",
      "188.0\txulibin6\t京东数字科技\n",
      "\n",
      "294.0\ttangjie16\t京东数字科技\n",
      "\n",
      "295.0\twangting180\t京东数字科技\n",
      "\n",
      "330.0\tzhangdengfeng4\t京东数字科技\n",
      "\n",
      "387.0\tlijiahong3\t京东数字科技\n",
      "\n"
     ]
    }
   ],
   "source": [
    "i = 0\n",
    "with open(r'C:\\Users\\mushudong\\Desktop\\group.txt','r',encoding='utf-8') as f:\n",
    "    while True:\n",
    "        line = f.readline()\n",
    "        if line:\n",
    "            print(line)\n",
    "            i=i+1\n",
    "            if i > 5:\n",
    "                break"
   ]
  },
  {
   "cell_type": "code",
   "execution_count": 37,
   "metadata": {},
   "outputs": [],
   "source": [
    "import random\n",
    "import time\n",
    "import hashlib\n",
    "PASSWORD='EDKJK3323#@!kld'\n",
    "randomstr = ''.join(random.sample('abcdefghij123456789',5))\n",
    "timenow = int(time.time())\n",
    "token_str_list = [PASSWORD,randomstr,str(timenow)]\n",
    "token_str_list.sort()\n",
    "token_str=''.join(token_str_list).encode('utf-8')\n",
    "m1 = hashlib.md5()\n",
    "m1.update(token_str)\n",
    "token=m1.hexdigest()"
   ]
  },
  {
   "cell_type": "code",
   "execution_count": 22,
   "metadata": {},
   "outputs": [
    {
     "name": "stdout",
     "output_type": "stream",
     "text": [
      "{\"result\":\"{\\\"code\\\":0,\\\"msg\\\":\\\"启动作业指令已经执行，请稍后查询！\\\",\\\"success\\\":true}\",\"code\":\"1000\",\"msg\":\"成功\",\"success\":1}\n"
     ]
    }
   ],
   "source": [
    "import requests\n",
    "import json\n",
    "head = {\"Content-Type\": \"application/json;charset=UTF-8\"}\n",
    "body = {'jobName':'STG_M11_PROJECT'}\n",
    "requrl = \"http://sync-jrbdp.jd.local/worker/startRealJob\"\n",
    "r = requests.post(requrl, data=json.dumps(body),headers = head)\n",
    "print(r.text)"
   ]
  },
  {
   "cell_type": "code",
   "execution_count": null,
   "metadata": {},
   "outputs": [],
   "source": []
  }
 ],
 "metadata": {
  "kernelspec": {
   "display_name": "Python 3",
   "language": "python",
   "name": "python3"
  },
  "language_info": {
   "codemirror_mode": {
    "name": "ipython",
    "version": 3
   },
   "file_extension": ".py",
   "mimetype": "text/x-python",
   "name": "python",
   "nbconvert_exporter": "python",
   "pygments_lexer": "ipython3",
   "version": "3.7.1"
  }
 },
 "nbformat": 4,
 "nbformat_minor": 2
}
