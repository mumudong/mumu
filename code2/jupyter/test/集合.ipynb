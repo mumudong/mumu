{
 "cells": [
  {
   "cell_type": "code",
   "execution_count": 1,
   "metadata": {
    "scrolled": true
   },
   "outputs": [
    {
     "name": "stdout",
     "output_type": "stream",
     "text": [
      "你好，世界\n"
     ]
    },
    {
     "ename": "NameError",
     "evalue": "name 'cmp' is not defined",
     "output_type": "error",
     "traceback": [
      "\u001b[1;31m---------------------------------------------------------------------------\u001b[0m",
      "\u001b[1;31mNameError\u001b[0m                                 Traceback (most recent call last)",
      "\u001b[1;32m<ipython-input-1-5ba37bc3cad8>\u001b[0m in \u001b[0;36m<module>\u001b[1;34m\u001b[0m\n\u001b[0;32m      4\u001b[0m \u001b[0ma\u001b[0m \u001b[1;33m=\u001b[0m \u001b[1;33m(\u001b[0m\u001b[1;36m1\u001b[0m\u001b[1;33m,\u001b[0m\u001b[1;36m2\u001b[0m\u001b[1;33m,\u001b[0m\u001b[1;32mNone\u001b[0m\u001b[1;33m)\u001b[0m\u001b[1;33m\u001b[0m\u001b[1;33m\u001b[0m\u001b[0m\n\u001b[0;32m      5\u001b[0m \u001b[0mb\u001b[0m \u001b[1;33m=\u001b[0m \u001b[1;33m(\u001b[0m\u001b[1;36m1\u001b[0m\u001b[1;33m,\u001b[0m\u001b[1;36m2\u001b[0m\u001b[1;33m,\u001b[0m\u001b[1;32mNone\u001b[0m\u001b[1;33m)\u001b[0m\u001b[1;33m\u001b[0m\u001b[1;33m\u001b[0m\u001b[0m\n\u001b[1;32m----> 6\u001b[1;33m \u001b[0mprint\u001b[0m\u001b[1;33m(\u001b[0m\u001b[0mcmp\u001b[0m\u001b[1;33m(\u001b[0m\u001b[0ma\u001b[0m\u001b[1;33m,\u001b[0m\u001b[0mb\u001b[0m\u001b[1;33m)\u001b[0m\u001b[1;33m)\u001b[0m\u001b[1;33m\u001b[0m\u001b[1;33m\u001b[0m\u001b[0m\n\u001b[0m",
      "\u001b[1;31mNameError\u001b[0m: name 'cmp' is not defined"
     ]
    }
   ],
   "source": [
    "# _*_ coding:utf-8 _*_\n",
    "print(\"你好，世界\")\n",
    "\n",
    "a = (1,2,None)\n",
    "b = (1,2,None)\n",
    "print(cmp(a,b))\n"
   ]
  },
  {
   "cell_type": "code",
   "execution_count": 38,
   "metadata": {},
   "outputs": [
    {
     "name": "stdout",
     "output_type": "stream",
     "text": [
      "alist[-1] -->  a\n",
      "alist.count(a) -->  2\n",
      "移除第一个a -->  ['bb', 'c', 'd', 'a']\n",
      "反转 -->  ['a', 'd', 'c', 'bb']\n",
      "********** reverse **********\n",
      "sort -->  ['bb', 'a', 'd', 'c']\n",
      "alist.pop() -->  c\n",
      "alist.pop(0) -->  bb\n",
      "['a', 'd']\n",
      "['a', 'd', 'dddd']\n",
      "['a', 'd', 'dddd', 'a']\n"
     ]
    },
    {
     "ename": "SystemExit",
     "evalue": "",
     "output_type": "error",
     "traceback": [
      "An exception has occurred, use %tb to see the full traceback.\n",
      "\u001b[1;31mSystemExit\u001b[0m\n"
     ]
    }
   ],
   "source": [
    "#list类型  iter()迭代器  next()遍历下一个\n",
    "import sys\n",
    "alist = ['a','bb','c','d','a']\n",
    "print('alist[-1] --> ',alist[-1])\n",
    "print('alist.count(a) --> ',alist.count('a'))\n",
    "alist.remove('a')\n",
    "print('移除第一个a --> ',alist)\n",
    "alist.reverse()\n",
    "print('反转 --> ',alist)\n",
    "print('*'*10,'reverse','*'*10)\n",
    "alist.sort(key=lambda x:len(x),reverse=True)\n",
    "print('sort --> ',alist)\n",
    "#pop默认弹出最后一个元素\n",
    "print('alist.pop() --> ',alist.pop())\n",
    "print('alist.pop(0) --> ',alist.pop(0))\n",
    "print(alist)\n",
    "alist.append('dddd')\n",
    "print(alist)\n",
    "alist.append('a')\n",
    "print(alist)\n",
    "\n",
    "\n",
    "\n",
    "while True:\n",
    "    try:\n",
    "        print(next(aiter))\n",
    "    except:\n",
    "        sys.exit()"
   ]
  },
  {
   "cell_type": "code",
   "execution_count": 20,
   "metadata": {},
   "outputs": [
    {
     "name": "stdout",
     "output_type": "stream",
     "text": [
      "{'c', 'b', 'a', 'd'}\n",
      "remove d -->  {'c', 'b', 'd'}\n",
      "add a -->  {'c', 'b', 'a', 'd'}\n",
      "True\n"
     ]
    }
   ],
   "source": [
    "#set 空set使用set()  不能{}，会和dict重复\n",
    "aset = {'a','b','c','d','a'}\n",
    "print(aset)\n",
    "aset.remove('a') \n",
    "print('remove d --> ',aset)\n",
    "aset.add('a')\n",
    "print('add a --> ',aset)\n",
    "print('a' in aset)"
   ]
  },
  {
   "cell_type": "code",
   "execution_count": 12,
   "metadata": {},
   "outputs": [
    {
     "name": "stdout",
     "output_type": "stream",
     "text": [
      "('d', 'e', 'f')\n"
     ]
    }
   ],
   "source": [
    "tup1 = ('a','b','c')\n",
    "tup2 = 'd','e','f'\n",
    "print(tup2)"
   ]
  },
  {
   "cell_type": "code",
   "execution_count": 21,
   "metadata": {},
   "outputs": [
    {
     "name": "stdout",
     "output_type": "stream",
     "text": [
      "(0, 3)\n",
      "None\n",
      "********** match **********\n",
      "group() -->  cat are smarter than dog\n",
      "group(1) -->  cat\n",
      "group(2) -->  smarter\n",
      "********** search **********\n",
      "group(0) -->  cat are smarter than dog\n",
      "group(1) -->  cat\n",
      "group(2) -->  smarter\n",
      "********** 检索和替换 **********\n",
      "电话 -->  2001-1999-555 \n",
      "电话 -->  20011999555\n",
      "********** 函数 **********\n",
      "ab246cd912ef\n",
      "['123', '456']\n",
      "12\n",
      "34\n",
      "56\n"
     ]
    }
   ],
   "source": [
    "#match从起始位置匹配  search搜索整个串找匹配位置\n",
    "import re\n",
    "print(re.match('www','www.jd.com').span())\n",
    "print(re.match('jd','www.jd.com')) #从起始位置匹配  没匹配上\n",
    "print('*'*10,'match','*'*10)\n",
    "line = 'cat are smarter than dog'\n",
    "matchStr = re.match(r'(.*) are (.*?) .*',line,re.M|re.I) #.*匹配换行符之外的字符\n",
    "if matchStr:\n",
    "    print('group() --> ',matchStr.group())#匹配所有\n",
    "    print('group(1) --> ',matchStr.group(1))\n",
    "    print('group(2) --> ',matchStr.group(2))\n",
    "print('*'*10,'search','*'*10)\n",
    "searchStr = re.search(r'(.*) are (.*?) .*',line,re.M|re.I)\n",
    "if searchStr:\n",
    "    print(\"group(0) --> \",searchStr.group(0))\n",
    "    print('group(1) --> ',searchStr.group(1))\n",
    "    print('group(2) --> ',searchStr.group(2))\n",
    "print('*'*10,'检索和替换','*'*10)\n",
    "phone = '2001-1999-555 # 这是电话号码'\n",
    "num = re.sub(r'#.*','',phone) #删除注释\n",
    "print('电话 --> ',num)\n",
    "num = re.sub(r'\\D','',phone)#删除非数据内容\n",
    "print('电话 --> ',num)\n",
    "print('*'*10,'函数','*'*10)\n",
    "def double(matched):\n",
    "    value = int(matched.group('value'))\n",
    "    return str(value * 2)\n",
    "s = 'ab123cd456ef'\n",
    "print(re.sub('(?P<value>\\d+)',double,s))\n",
    "\n",
    "pattern = re.compile(r'\\d+')\n",
    "print(pattern.findall('aaa123bbb456'))\n",
    "\n",
    "it = re.finditer(r'\\d+','12ab34cdef56')\n",
    "for match in it:\n",
    "    print(match.group())"
   ]
  },
  {
   "cell_type": "code",
   "execution_count": null,
   "metadata": {},
   "outputs": [],
   "source": [
    "import re\n"
   ]
  },
  {
   "cell_type": "code",
   "execution_count": 25,
   "metadata": {},
   "outputs": [
    {
     "name": "stdout",
     "output_type": "stream",
     "text": [
      "2 是质数\n",
      "3 是质数\n",
      "4 = 2 * 2\n",
      "5 是质数\n",
      "6 = 2 * 3\n",
      "7 是质数\n",
      "8 = 2 * 4\n",
      "9 = 3 * 3\n"
     ]
    }
   ],
   "source": [
    "for n in range(2,10):\n",
    "    for x in range(2,n):\n",
    "        if n % x == 0:\n",
    "            print(n,'=',x,'*',n//x)\n",
    "            break\n",
    "    else:\n",
    "        print(n,'是质数')"
   ]
  },
  {
   "cell_type": "code",
   "execution_count": 26,
   "metadata": {},
   "outputs": [
    {
     "name": "stdout",
     "output_type": "stream",
     "text": [
      "True\n"
     ]
    }
   ],
   "source": [
    "print('abc' in 'eeabcee')"
   ]
  },
  {
   "cell_type": "code",
   "execution_count": 19,
   "metadata": {},
   "outputs": [
    {
     "name": "stdout",
     "output_type": "stream",
     "text": [
      "0 1 1 2 3 5 8 13 21 34 55 "
     ]
    }
   ],
   "source": [
    "def fibonacci(n):\n",
    "    a,b,counter = 0,1,0\n",
    "    while True:\n",
    "        if(counter>n):\n",
    "            return\n",
    "        yield a\n",
    "        a,b = b,a+b\n",
    "        counter += 1\n",
    "n = fibonacci(10)\n",
    "for x in n:\n",
    "    print(x,end=\" \")"
   ]
  },
  {
   "cell_type": "code",
   "execution_count": 32,
   "metadata": {},
   "outputs": [
    {
     "name": "stdout",
     "output_type": "stream",
     "text": [
      "a i am a\n",
      "c 我是c\n"
     ]
    }
   ],
   "source": [
    "dict_a = {'a':'i am a','c':'我是c'}\n",
    "for k,v in dict_a.items():\n",
    "    print(k,v)"
   ]
  },
  {
   "cell_type": "code",
   "execution_count": 8,
   "metadata": {},
   "outputs": [
    {
     "name": "stdout",
     "output_type": "stream",
     "text": [
      "['1', '2a', '3', 4, 5, 6]\n"
     ]
    }
   ],
   "source": [
    "a = ['1','2a','3']\n",
    "b = [4,5,6]\n",
    "print(a + b)"
   ]
  },
  {
   "cell_type": "code",
   "execution_count": 15,
   "metadata": {},
   "outputs": [],
   "source": [
    "import csv\n",
    "header = ['a','b','c']\n",
    "with open( 'd:/file.csv', 'w', encoding= 'utf-8') as csvFile:\n",
    "    dit = {'a':'111','c':'333','b':'222'}\n",
    "    writer = csv.DictWriter(csvFile,header)\n",
    "    writer.writeheader()\n",
    "    writer.writerow(dit)"
   ]
  },
  {
   "cell_type": "code",
   "execution_count": 25,
   "metadata": {},
   "outputs": [],
   "source": [
    "import csv\n",
    "header = ['a','b','c']\n",
    "csvFile = open( 'd:/file.csv', 'w', encoding= 'utf-8')\n",
    "dit = {'a':'111a','b':'222b','c':'333c'}\n",
    "writer = csv.DictWriter(csvFile,header)\n",
    "# writer.writeheader()\n",
    "\n",
    "writer.writerow(dit)\n",
    "# writer.writerow({})\n",
    "writer.writerow(dit)\n",
    "csvFile.close()"
   ]
  },
  {
   "cell_type": "code",
   "execution_count": 43,
   "metadata": {},
   "outputs": [
    {
     "name": "stdout",
     "output_type": "stream",
     "text": [
      "None\n"
     ]
    }
   ],
   "source": [
    "a = {'a':'this is a'}\n",
    "print(a.get('b'))"
   ]
  },
  {
   "cell_type": "code",
   "execution_count": 45,
   "metadata": {},
   "outputs": [
    {
     "name": "stdout",
     "output_type": "stream",
     "text": [
      "stg.'test'\n"
     ]
    }
   ],
   "source": [
    "a = \"\"\"stg.'{job_name}'\"\"\"\n",
    "print(a.format(job_name = 'test'))"
   ]
  },
  {
   "cell_type": "code",
   "execution_count": null,
   "metadata": {},
   "outputs": [],
   "source": []
  }
 ],
 "metadata": {
  "kernelspec": {
   "display_name": "Python 3",
   "language": "python",
   "name": "python3"
  },
  "language_info": {
   "codemirror_mode": {
    "name": "ipython",
    "version": 3
   },
   "file_extension": ".py",
   "mimetype": "text/x-python",
   "name": "python",
   "nbconvert_exporter": "python",
   "pygments_lexer": "ipython3",
   "version": "3.7.1"
  }
 },
 "nbformat": 4,
 "nbformat_minor": 2
}
