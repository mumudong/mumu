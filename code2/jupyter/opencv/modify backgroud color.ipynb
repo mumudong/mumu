{
 "cells": [
  {
   "cell_type": "code",
   "execution_count": 8,
   "metadata": {},
   "outputs": [],
   "source": [
    "import cv2\n",
    "import numpy as np\n",
    "# 读取照片\n",
    "image=cv2.imread('C:\\\\Users\\\\mushudong\\\\Desktop\\\\20200707095646434.png')\n",
    "#修改尺寸\n",
    "image = cv2.resize(image,None,fx=0.5,fy=0.5)\n",
    "# 图片转换为二值化图\n",
    "hsv = cv2.cvtColor(image,cv2.COLOR_BGR2HSV)\n",
    "#print(hsv)\n",
    "# 图片的二值化黑白处理\n",
    "lower_red = np.array([110,70,150])\n",
    "upper_red = np.array([150,255,255])\n",
    "heibai = cv2.inRange(hsv, lower_red, upper_red)\n",
    "#闭运算\n",
    "k=np.ones((5,5),np.uint8)\n",
    "r=cv2.morphologyEx(heibai,cv2.MORPH_CLOSE,k)\n",
    "#原图显示\n",
    "cv2.imshow('image',image)\n",
    "#颜色替换\n",
    "rows,cols,channels = image.shape\n",
    "for i in range(rows):\n",
    "  for j in range(cols):\n",
    "    if r[i,j]==255: # 像素点为255表示的是白色，我们就是要将白色处的像素点，替换为红色\n",
    "      image[i,j]=(0,255,0) # 此处替换颜色，为BGR通道，不是RGB通道\n",
    "#新图显示\n",
    "cv2.imshow('red',image)\n",
    "#无限等待\n",
    "cv2.waitKey(0)\n",
    "#销毁内存\n",
    "cv2.destroyAllWindows()\n",
    "#新图保存\n",
    "#cv2.imwrite('new_photo.jpg',image)"
   ]
  },
  {
   "cell_type": "code",
   "execution_count": null,
   "metadata": {},
   "outputs": [],
   "source": [
    "#彩色图无法进行梯度闭运算。闭运算（对图像先进行膨胀再腐蚀，有助于关闭前景物体上的小孔，或者小黑点。）形态学变换（开运算，闭运算，梯度运算）\n",
    "#所以先将图片转换为hsv格式\n",
    "#cv2.cvtColor(img,cv2.COLOR_BGR2HSV)\n",
    "\n",
    "#形态学变换需要的是二值图片。\n",
    "#cv2.inRange(hsv,lower_red,upper_red)\n",
    "#hsv:图像\n",
    "#lower_red指的是图像中低于这个lower_red的值，图像值变为0\n",
    "#upper_red指的是图像中高于这个upper_red的值，图像值变为0\n",
    "#而在lower_red～upper_red之间的值变成255。\n",
    "#完成二值变换。\n",
    "#每张图的lower_red，upper_red 不同。自己可以查找hsv色彩空间表。然后结合，修改数值。\n",
    "\n",
    "#黑白色的照片周围有很多黑色小点。是噪声。\n",
    "#我们需要去除背景色噪声，选用膨胀。\n",
    "#膨胀即对图片高亮色进行膨胀。周围只有有一个为1，即是1.\n",
    "#再进行腐蚀，缩小图片尺寸。\n",
    "#即闭运算操作。\n",
    "#不同的图片噪声不一样，如是前景色人物含有小白点，则进行开运算操作。\n",
    "#图像腐蚀和图像膨胀\n",
    "#形态学变换（开运算，闭运算，梯度运算）\n",
    "\n",
    "#合理选择卷积核大小:k=np.ones((5,5),np.uint8)\n",
    "#不同照片不一样。\n",
    "\n",
    "#遍历r(黑白照），找到白色像素点的位置索引，\n",
    "#同理找到原图（白色像素点对应位置索引）\n",
    "#换成颜色替换。"
   ]
  }
 ],
 "metadata": {
  "kernelspec": {
   "display_name": "Python 3",
   "language": "python",
   "name": "python3"
  },
  "language_info": {
   "codemirror_mode": {
    "name": "ipython",
    "version": 3
   },
   "file_extension": ".py",
   "mimetype": "text/x-python",
   "name": "python",
   "nbconvert_exporter": "python",
   "pygments_lexer": "ipython3",
   "version": "3.7.1"
  }
 },
 "nbformat": 4,
 "nbformat_minor": 2
}
